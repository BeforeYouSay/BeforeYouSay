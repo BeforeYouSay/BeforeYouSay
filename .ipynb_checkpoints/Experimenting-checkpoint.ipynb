{
 "cells": [
  {
   "cell_type": "code",
   "execution_count": 31,
   "metadata": {},
   "outputs": [
    {
     "name": "stdout",
     "output_type": "stream",
     "text": [
      "['2 girls 1 cup', '2g1c', '4r5e', '5h1t', '5hit']\n",
      "I hate you, <badword>fuc</badword>k you!\n",
      "May I please go to the mall? May I please drive to the mall? Run to the mall.\n"
     ]
    }
   ],
   "source": [
    "import nltk\n",
    "simple_conversions = {'Can I': 'May I'}\n",
    "with open('bad_words.txt', 'r') as f:\n",
    "    bad_words = [word.strip() for word in f.readlines()[13:]]\n",
    "\n",
    "def convert_simple_stuff(content):\n",
    "    for simple_conversion in simple_conversions:\n",
    "        content = content.replace(simple_conversion, simple_conversions[simple_conversion])\n",
    "    return content\n",
    "\n",
    "def add_please(content):\n",
    "    tokenized_words = nltk.word_tokenize(content)\n",
    "    tags_with_words = nltk.pos_tag(tokenized_words)\n",
    "    new_tags_with_words = tags_with_words[:]\n",
    "    n = 0\n",
    "    for i, tag_with_word in enumerate(tags_with_words):\n",
    "        if tag_with_word[1] == 'VBP' and not tags_with_words[i][0] == 'please':\n",
    "            new_tags_with_words.insert(i+n, ('please', ''))\n",
    "            n += 1\n",
    "    content = ' '.join([x[0] for x in new_tags_with_words])\n",
    "    indices = [i for i, x in enumerate(content) if x in ['.', '!', '?']]\n",
    "    for n, i in enumerate(indices):\n",
    "        content = content[:i-1-n]+content[i-n:]\n",
    "    return content\n",
    "\n",
    "def clean_content(content):\n",
    "    content = convert_simple_stuff(content)\n",
    "    content = add_please(content)\n",
    "    return content\n",
    "\n",
    "def is_it_safe_to_say(content):\n",
    "    for bad_word in bad_words:\n",
    "        if bad_word in content:\n",
    "            return False\n",
    "    return True    \n",
    "\n",
    "def flag_bad_words(content):\n",
    "\n",
    "        \n",
    "    print bad_words[:5]    \n",
    "    for bad_word in bad_words:\n",
    "        if bad_word in content:\n",
    "            content = content.replace(bad_word, '<badword>'+bad_word+'</badword>')\n",
    "    return content    \n",
    "\n",
    "\n",
    "print flag_bad_words('I hate you, fuck you!')\n",
    "print clean_content('Can I go to the mall? Can I drive to the mall? Run to the mall.')\n"
   ]
  },
  {
   "cell_type": "code",
   "execution_count": null,
   "metadata": {},
   "outputs": [],
   "source": []
  },
  {
   "cell_type": "code",
   "execution_count": 13,
   "metadata": {},
   "outputs": [
    {
     "ename": "AttributeError",
     "evalue": "'list' object has no attribute 'findall'",
     "output_type": "error",
     "traceback": [
      "\u001b[0;31m---------------------------------------------------------------------------\u001b[0m",
      "\u001b[0;31mAttributeError\u001b[0m                            Traceback (most recent call last)",
      "\u001b[0;32m<ipython-input-13-84815b97c507>\u001b[0m in \u001b[0;36m<module>\u001b[0;34m()\u001b[0m\n\u001b[0;32m----> 1\u001b[0;31m \u001b[0;34m[\u001b[0m\u001b[0;36m7\u001b[0m\u001b[0;34m,\u001b[0m\u001b[0;36m8\u001b[0m\u001b[0;34m,\u001b[0m\u001b[0;36m9\u001b[0m\u001b[0;34m]\u001b[0m\u001b[0;34m.\u001b[0m\u001b[0mfindall\u001b[0m\u001b[0;34m(\u001b[0m\u001b[0;36m7\u001b[0m\u001b[0;34m)\u001b[0m\u001b[0;34m\u001b[0m\u001b[0m\n\u001b[0m",
      "\u001b[0;31mAttributeError\u001b[0m: 'list' object has no attribute 'findall'"
     ]
    }
   ],
   "source": [
    "content = 'Run to the mall.'\n",
    "tokenized_words = nltk.word_tokenize(content)\n",
    "tags_with_words = nltk.pos_tag(tokenized_words)\n",
    "print tr"
   ]
  },
  {
   "cell_type": "code",
   "execution_count": null,
   "metadata": {},
   "outputs": [],
   "source": []
  }
 ],
 "metadata": {
  "kernelspec": {
   "display_name": "Python 2",
   "language": "python",
   "name": "python2"
  },
  "language_info": {
   "codemirror_mode": {
    "name": "ipython",
    "version": 2
   },
   "file_extension": ".py",
   "mimetype": "text/x-python",
   "name": "python",
   "nbconvert_exporter": "python",
   "pygments_lexer": "ipython2",
   "version": "2.7.14"
  }
 },
 "nbformat": 4,
 "nbformat_minor": 2
}
