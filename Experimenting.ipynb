{
 "cells": [
  {
   "cell_type": "code",
   "execution_count": 8,
   "metadata": {},
   "outputs": [
    {
     "name": "stdout",
     "output_type": "stream",
     "text": [
      "May I please go to the mall? May I please drive to the mall? Please run to the mall. I want to go to the mall.\n"
     ]
    }
   ],
   "source": [
    "import nltk\n",
    "from nltk.tokenize import sent_tokenize\n",
    "simple_conversions = {'Can I': 'May I'}\n",
    "with open('bad_words.txt', 'r') as f:\n",
    "    bad_words = [word.strip() for word in f.readlines()[13:]]\n",
    "\n",
    "def convert_simple_stuff(content):\n",
    "    for simple_conversion in simple_conversions:\n",
    "        content = content.replace(simple_conversion, simple_conversions[simple_conversion])\n",
    "    return content\n",
    "\n",
    "def add_please(content):\n",
    "    sentences = sent_tokenize(content)\n",
    "    new_sentences = []\n",
    "    \n",
    "    for sentence in sentences:\n",
    "        tokenized_words = nltk.word_tokenize(sentence)\n",
    "        tags_with_words = nltk.pos_tag(tokenized_words)\n",
    "        new_tags_with_words = tags_with_words[:]\n",
    "        n = 0\n",
    "\n",
    "        for i, tag_with_word in enumerate(tags_with_words):\n",
    "            if tag_with_word[1] in ['VBP', 'VB'] and not tags_with_words[i][0] == 'please' and not tags_with_words[0][0] == 'I':\n",
    "                new_tags_with_words.insert(i+n, ('please', ''))\n",
    "                n += 1\n",
    "            if tag_with_word[1] == 'NNP' and not tag_with_word[0] in ['May', 'I']:\n",
    "                new_tags_with_words[i+n] = (tag_with_word[0].lower(), tag_with_word[1])\n",
    "                new_tags_with_words.insert(i+n, ('Please', ''))\n",
    "                n += 1\n",
    "        sentence = ' '.join([x[0] for x in new_tags_with_words[:-1]])+new_tags_with_words[-1][0]\n",
    "        \n",
    "        new_sentences.append(sentence)\n",
    "    return ' '.join(new_sentences)\n",
    "\n",
    "def clean_content(content):\n",
    "    content = convert_simple_stuff(content)\n",
    "    content = add_please(content)\n",
    "    return content\n",
    "\n",
    "def is_it_safe_to_say(content):\n",
    "    for bad_word in bad_words:\n",
    "        if bad_word in content:\n",
    "            return False\n",
    "    return True    \n",
    "\n",
    "def flag_bad_words(content):   \n",
    "    for bad_word in bad_words:\n",
    "        if bad_word in content:\n",
    "            content = content.replace(bad_word, '<badword>'+bad_word+'</badword>')\n",
    "    return content    \n",
    "\n",
    "print clean_content('Can I go to the mall? Can I drive to the mall? Run to the mall. I want to go to the mall.')\n"
   ]
  },
  {
   "cell_type": "code",
   "execution_count": null,
   "metadata": {},
   "outputs": [],
   "source": []
  },
  {
   "cell_type": "code",
   "execution_count": null,
   "metadata": {},
   "outputs": [],
   "source": [
    "content = 'Run to the mall.'\n",
    "tokenized_words = nltk.word_tokenize(content)\n",
    "tags_with_words = nltk.pos_tag(tokenized_words)\n",
    "print tags_with_words\n",
    "content = 'I want to go to the mall.'\n",
    "tokenized_words = nltk.word_tokenize(content)\n",
    "tags_with_words = nltk.pos_tag(tokenized_words)\n",
    "print tags_with_words"
   ]
  },
  {
   "cell_type": "code",
   "execution_count": 9,
   "metadata": {},
   "outputs": [],
   "source": [
    "#maybe change name to whattosay"
   ]
  },
  {
   "cell_type": "code",
   "execution_count": null,
   "metadata": {},
   "outputs": [],
   "source": []
  }
 ],
 "metadata": {
  "kernelspec": {
   "display_name": "Python 2",
   "language": "python",
   "name": "python2"
  },
  "language_info": {
   "codemirror_mode": {
    "name": "ipython",
    "version": 2
   },
   "file_extension": ".py",
   "mimetype": "text/x-python",
   "name": "python",
   "nbconvert_exporter": "python",
   "pygments_lexer": "ipython2",
   "version": "2.7.14"
  }
 },
 "nbformat": 4,
 "nbformat_minor": 2
}
